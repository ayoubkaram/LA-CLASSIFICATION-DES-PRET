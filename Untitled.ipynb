{
 "cells": [
  {
   "cell_type": "markdown",
   "id": "87ab7ef9-031a-47e7-9153-1abe522fcb2b",
   "metadata": {},
   "source": [
    "<a id = '1'></a>     \n",
    "## <h1 style='border-radius:10px; background-color:#4B65FB; font-size:180%; color:#FFFFFF; text-align: center; font-style:italic; font-family: Cursive'><center> Import Libraries </center></h1>  "
   ]
  },
  {
   "cell_type": "code",
   "execution_count": 40,
   "id": "909d5e66-b346-4dc2-aa5c-4e4439ae9af5",
   "metadata": {},
   "outputs": [],
   "source": [
    "import numpy as np # linear algebra\n",
    "import pandas as pd # data processing, CSV file I/O (e.g. pd.read_csv)\n",
    "import seaborn as sns                  # For data visualization \n",
    "import matplotlib.pyplot as plt        # For plotting graphs \n",
    "%matplotlib inline \n",
    "import warnings   # To ignore any warnings \n",
    "warnings.filterwarnings(\"ignore\")"
   ]
  },
  {
   "cell_type": "markdown",
   "id": "4e53406a-4bea-425a-ae84-cc2fe5443ae7",
   "metadata": {
    "tags": []
   },
   "source": [
    "## <h1 style='border-radius:10px; background-color:#4B65FB; font-size:180%; color:#FFFFFF; text-align: center; font-style:italic; font-family: Cursive'><center> Load The Data</center></h1>  \n",
    "Pour ce problème d'entraînement, nous avons utilisaient deux fichiers CSV : train, test.\n",
    "\n",
    "<li>Le fichier de train sera utilisé pour entraîner le modèle, c'est-à-dire que notre modèle apprendra à partir de ce fichier. Il contient toutes les feature et les target.</li>\n",
    "<li>Le fichier de test contient toutes les feature, mais pas les target. Nous appliquerons le modèle pour prédire les Target pour notre données de test.</li>"
   ]
  },
  {
   "cell_type": "code",
   "execution_count": 41,
   "id": "6b0cbd63-85b2-4ae0-9251-a475ccb94cfc",
   "metadata": {},
   "outputs": [],
   "source": [
    "train = pd.read_csv('madfhantr.csv')\n",
    "test = pd.read_csv('madhante.csv')"
   ]
  },
  {
   "cell_type": "code",
   "execution_count": 42,
   "id": "16e97d2e-4f6c-484d-9900-5ab8b96ea2ff",
   "metadata": {},
   "outputs": [
    {
     "data": {
      "text/html": [
       "<div>\n",
       "<style scoped>\n",
       "    .dataframe tbody tr th:only-of-type {\n",
       "        vertical-align: middle;\n",
       "    }\n",
       "\n",
       "    .dataframe tbody tr th {\n",
       "        vertical-align: top;\n",
       "    }\n",
       "\n",
       "    .dataframe thead th {\n",
       "        text-align: right;\n",
       "    }\n",
       "</style>\n",
       "<table border=\"1\" class=\"dataframe\">\n",
       "  <thead>\n",
       "    <tr style=\"text-align: right;\">\n",
       "      <th></th>\n",
       "      <th>Loan_ID</th>\n",
       "      <th>Gender</th>\n",
       "      <th>Married</th>\n",
       "      <th>Dependents</th>\n",
       "      <th>Education</th>\n",
       "      <th>Self_Employed</th>\n",
       "      <th>ApplicantIncome</th>\n",
       "      <th>CoapplicantIncome</th>\n",
       "      <th>LoanAmount</th>\n",
       "      <th>Loan_Amount_Term</th>\n",
       "      <th>Credit_History</th>\n",
       "      <th>Property_Area</th>\n",
       "      <th>Loan_Status</th>\n",
       "    </tr>\n",
       "  </thead>\n",
       "  <tbody>\n",
       "    <tr>\n",
       "      <th>0</th>\n",
       "      <td>LP001002</td>\n",
       "      <td>Male</td>\n",
       "      <td>No</td>\n",
       "      <td>0</td>\n",
       "      <td>Graduate</td>\n",
       "      <td>No</td>\n",
       "      <td>5849</td>\n",
       "      <td>0.0</td>\n",
       "      <td>NaN</td>\n",
       "      <td>360.0</td>\n",
       "      <td>1.0</td>\n",
       "      <td>Urban</td>\n",
       "      <td>Y</td>\n",
       "    </tr>\n",
       "    <tr>\n",
       "      <th>1</th>\n",
       "      <td>LP001003</td>\n",
       "      <td>Male</td>\n",
       "      <td>Yes</td>\n",
       "      <td>1</td>\n",
       "      <td>Graduate</td>\n",
       "      <td>No</td>\n",
       "      <td>4583</td>\n",
       "      <td>1508.0</td>\n",
       "      <td>128.0</td>\n",
       "      <td>360.0</td>\n",
       "      <td>1.0</td>\n",
       "      <td>Rural</td>\n",
       "      <td>N</td>\n",
       "    </tr>\n",
       "    <tr>\n",
       "      <th>2</th>\n",
       "      <td>LP001005</td>\n",
       "      <td>Male</td>\n",
       "      <td>Yes</td>\n",
       "      <td>0</td>\n",
       "      <td>Graduate</td>\n",
       "      <td>Yes</td>\n",
       "      <td>3000</td>\n",
       "      <td>0.0</td>\n",
       "      <td>66.0</td>\n",
       "      <td>360.0</td>\n",
       "      <td>1.0</td>\n",
       "      <td>Urban</td>\n",
       "      <td>Y</td>\n",
       "    </tr>\n",
       "    <tr>\n",
       "      <th>3</th>\n",
       "      <td>LP001006</td>\n",
       "      <td>Male</td>\n",
       "      <td>Yes</td>\n",
       "      <td>0</td>\n",
       "      <td>Not Graduate</td>\n",
       "      <td>No</td>\n",
       "      <td>2583</td>\n",
       "      <td>2358.0</td>\n",
       "      <td>120.0</td>\n",
       "      <td>360.0</td>\n",
       "      <td>1.0</td>\n",
       "      <td>Urban</td>\n",
       "      <td>Y</td>\n",
       "    </tr>\n",
       "    <tr>\n",
       "      <th>4</th>\n",
       "      <td>LP001008</td>\n",
       "      <td>Male</td>\n",
       "      <td>No</td>\n",
       "      <td>0</td>\n",
       "      <td>Graduate</td>\n",
       "      <td>No</td>\n",
       "      <td>6000</td>\n",
       "      <td>0.0</td>\n",
       "      <td>141.0</td>\n",
       "      <td>360.0</td>\n",
       "      <td>1.0</td>\n",
       "      <td>Urban</td>\n",
       "      <td>Y</td>\n",
       "    </tr>\n",
       "  </tbody>\n",
       "</table>\n",
       "</div>"
      ],
      "text/plain": [
       "    Loan_ID Gender Married Dependents     Education Self_Employed  \\\n",
       "0  LP001002   Male      No          0      Graduate            No   \n",
       "1  LP001003   Male     Yes          1      Graduate            No   \n",
       "2  LP001005   Male     Yes          0      Graduate           Yes   \n",
       "3  LP001006   Male     Yes          0  Not Graduate            No   \n",
       "4  LP001008   Male      No          0      Graduate            No   \n",
       "\n",
       "   ApplicantIncome  CoapplicantIncome  LoanAmount  Loan_Amount_Term  \\\n",
       "0             5849                0.0         NaN             360.0   \n",
       "1             4583             1508.0       128.0             360.0   \n",
       "2             3000                0.0        66.0             360.0   \n",
       "3             2583             2358.0       120.0             360.0   \n",
       "4             6000                0.0       141.0             360.0   \n",
       "\n",
       "   Credit_History Property_Area Loan_Status  \n",
       "0             1.0         Urban           Y  \n",
       "1             1.0         Rural           N  \n",
       "2             1.0         Urban           Y  \n",
       "3             1.0         Urban           Y  \n",
       "4             1.0         Urban           Y  "
      ]
     },
     "execution_count": 42,
     "metadata": {},
     "output_type": "execute_result"
    }
   ],
   "source": [
    "train.head()"
   ]
  },
  {
   "cell_type": "markdown",
   "id": "03a06f9b-5094-4219-85b3-64b8f1caf3ec",
   "metadata": {
    "tags": []
   },
   "source": [
    "#####"
   ]
  },
  {
   "cell_type": "code",
   "execution_count": 43,
   "id": "b193666c-b009-424e-8ce5-dbf586e5e525",
   "metadata": {
    "tags": []
   },
   "outputs": [
    {
     "data": {
      "text/html": [
       "<div>\n",
       "<style scoped>\n",
       "    .dataframe tbody tr th:only-of-type {\n",
       "        vertical-align: middle;\n",
       "    }\n",
       "\n",
       "    .dataframe tbody tr th {\n",
       "        vertical-align: top;\n",
       "    }\n",
       "\n",
       "    .dataframe thead th {\n",
       "        text-align: right;\n",
       "    }\n",
       "</style>\n",
       "<table border=\"1\" class=\"dataframe\">\n",
       "  <thead>\n",
       "    <tr style=\"text-align: right;\">\n",
       "      <th></th>\n",
       "      <th>Loan_ID</th>\n",
       "      <th>Gender</th>\n",
       "      <th>Married</th>\n",
       "      <th>Dependents</th>\n",
       "      <th>Education</th>\n",
       "      <th>Self_Employed</th>\n",
       "      <th>ApplicantIncome</th>\n",
       "      <th>CoapplicantIncome</th>\n",
       "      <th>LoanAmount</th>\n",
       "      <th>Loan_Amount_Term</th>\n",
       "      <th>Credit_History</th>\n",
       "      <th>Property_Area</th>\n",
       "    </tr>\n",
       "  </thead>\n",
       "  <tbody>\n",
       "    <tr>\n",
       "      <th>0</th>\n",
       "      <td>LP001015</td>\n",
       "      <td>Male</td>\n",
       "      <td>Yes</td>\n",
       "      <td>0</td>\n",
       "      <td>Graduate</td>\n",
       "      <td>No</td>\n",
       "      <td>5720</td>\n",
       "      <td>0</td>\n",
       "      <td>110.0</td>\n",
       "      <td>360.0</td>\n",
       "      <td>1.0</td>\n",
       "      <td>Urban</td>\n",
       "    </tr>\n",
       "    <tr>\n",
       "      <th>1</th>\n",
       "      <td>LP001022</td>\n",
       "      <td>Male</td>\n",
       "      <td>Yes</td>\n",
       "      <td>1</td>\n",
       "      <td>Graduate</td>\n",
       "      <td>No</td>\n",
       "      <td>3076</td>\n",
       "      <td>1500</td>\n",
       "      <td>126.0</td>\n",
       "      <td>360.0</td>\n",
       "      <td>1.0</td>\n",
       "      <td>Urban</td>\n",
       "    </tr>\n",
       "    <tr>\n",
       "      <th>2</th>\n",
       "      <td>LP001031</td>\n",
       "      <td>Male</td>\n",
       "      <td>Yes</td>\n",
       "      <td>2</td>\n",
       "      <td>Graduate</td>\n",
       "      <td>No</td>\n",
       "      <td>5000</td>\n",
       "      <td>1800</td>\n",
       "      <td>208.0</td>\n",
       "      <td>360.0</td>\n",
       "      <td>1.0</td>\n",
       "      <td>Urban</td>\n",
       "    </tr>\n",
       "    <tr>\n",
       "      <th>3</th>\n",
       "      <td>LP001035</td>\n",
       "      <td>Male</td>\n",
       "      <td>Yes</td>\n",
       "      <td>2</td>\n",
       "      <td>Graduate</td>\n",
       "      <td>No</td>\n",
       "      <td>2340</td>\n",
       "      <td>2546</td>\n",
       "      <td>100.0</td>\n",
       "      <td>360.0</td>\n",
       "      <td>NaN</td>\n",
       "      <td>Urban</td>\n",
       "    </tr>\n",
       "    <tr>\n",
       "      <th>4</th>\n",
       "      <td>LP001051</td>\n",
       "      <td>Male</td>\n",
       "      <td>No</td>\n",
       "      <td>0</td>\n",
       "      <td>Not Graduate</td>\n",
       "      <td>No</td>\n",
       "      <td>3276</td>\n",
       "      <td>0</td>\n",
       "      <td>78.0</td>\n",
       "      <td>360.0</td>\n",
       "      <td>1.0</td>\n",
       "      <td>Urban</td>\n",
       "    </tr>\n",
       "  </tbody>\n",
       "</table>\n",
       "</div>"
      ],
      "text/plain": [
       "    Loan_ID Gender Married Dependents     Education Self_Employed  \\\n",
       "0  LP001015   Male     Yes          0      Graduate            No   \n",
       "1  LP001022   Male     Yes          1      Graduate            No   \n",
       "2  LP001031   Male     Yes          2      Graduate            No   \n",
       "3  LP001035   Male     Yes          2      Graduate            No   \n",
       "4  LP001051   Male      No          0  Not Graduate            No   \n",
       "\n",
       "   ApplicantIncome  CoapplicantIncome  LoanAmount  Loan_Amount_Term  \\\n",
       "0             5720                  0       110.0             360.0   \n",
       "1             3076               1500       126.0             360.0   \n",
       "2             5000               1800       208.0             360.0   \n",
       "3             2340               2546       100.0             360.0   \n",
       "4             3276                  0        78.0             360.0   \n",
       "\n",
       "   Credit_History Property_Area  \n",
       "0             1.0         Urban  \n",
       "1             1.0         Urban  \n",
       "2             1.0         Urban  \n",
       "3             NaN         Urban  \n",
       "4             1.0         Urban  "
      ]
     },
     "execution_count": 43,
     "metadata": {},
     "output_type": "execute_result"
    }
   ],
   "source": [
    "test.head()"
   ]
  },
  {
   "cell_type": "markdown",
   "id": "71a4e436-7e09-401d-8c8f-25fc19faf3aa",
   "metadata": {},
   "source": [
    "## <h1 style='border-radius:10px; background-color:#4B65FB; font-size:180%; color:#FFFFFF; text-align: center; font-style:italic; font-family: Cursive'><center> Summarize the Dataset</center></h1>  "
   ]
  },
  {
   "cell_type": "markdown",
   "id": "d83e8107-a160-4450-9ca8-3524dc82cda8",
   "metadata": {},
   "source": [
    "### Dimensions of Dataset"
   ]
  },
  {
   "cell_type": "code",
   "execution_count": 44,
   "id": "2b682cda-6816-47ad-9774-f52fb3271a67",
   "metadata": {},
   "outputs": [
    {
     "data": {
      "text/plain": [
       "((614, 13), (367, 12))"
      ]
     },
     "execution_count": 44,
     "metadata": {},
     "output_type": "execute_result"
    }
   ],
   "source": [
    "train.shape,test.shape"
   ]
  },
  {
   "cell_type": "markdown",
   "id": "ddacad02-1686-41c9-8d12-985d11a306de",
   "metadata": {},
   "source": [
    "Nous avons 614 lignes et 13 colonnes dans le datasets train et 367 lignes et 12 colonnes dans le datasets test."
   ]
  },
  {
   "cell_type": "markdown",
   "id": "5ac44f03-d332-4968-9951-ad4a3e85cf10",
   "metadata": {},
   "source": [
    "### Statistical Summary\n",
    "\n",
    "Maintenant, nous pouvons examiner un résumé de chaque attribut. Cela inclut le compte, la moyenne, les valeurs minimales et maximales ainsi que certains percentiles."
   ]
  },
  {
   "cell_type": "code",
   "execution_count": 45,
   "id": "1efef83a-651e-4307-9b95-cf524b16f435",
   "metadata": {},
   "outputs": [
    {
     "data": {
      "text/html": [
       "<div>\n",
       "<style scoped>\n",
       "    .dataframe tbody tr th:only-of-type {\n",
       "        vertical-align: middle;\n",
       "    }\n",
       "\n",
       "    .dataframe tbody tr th {\n",
       "        vertical-align: top;\n",
       "    }\n",
       "\n",
       "    .dataframe thead th {\n",
       "        text-align: right;\n",
       "    }\n",
       "</style>\n",
       "<table border=\"1\" class=\"dataframe\">\n",
       "  <thead>\n",
       "    <tr style=\"text-align: right;\">\n",
       "      <th></th>\n",
       "      <th>ApplicantIncome</th>\n",
       "      <th>CoapplicantIncome</th>\n",
       "      <th>LoanAmount</th>\n",
       "      <th>Loan_Amount_Term</th>\n",
       "      <th>Credit_History</th>\n",
       "    </tr>\n",
       "  </thead>\n",
       "  <tbody>\n",
       "    <tr>\n",
       "      <th>count</th>\n",
       "      <td>614.000000</td>\n",
       "      <td>614.000000</td>\n",
       "      <td>592.000000</td>\n",
       "      <td>600.00000</td>\n",
       "      <td>564.000000</td>\n",
       "    </tr>\n",
       "    <tr>\n",
       "      <th>mean</th>\n",
       "      <td>5403.459283</td>\n",
       "      <td>1621.245798</td>\n",
       "      <td>146.412162</td>\n",
       "      <td>342.00000</td>\n",
       "      <td>0.842199</td>\n",
       "    </tr>\n",
       "    <tr>\n",
       "      <th>std</th>\n",
       "      <td>6109.041673</td>\n",
       "      <td>2926.248369</td>\n",
       "      <td>85.587325</td>\n",
       "      <td>65.12041</td>\n",
       "      <td>0.364878</td>\n",
       "    </tr>\n",
       "    <tr>\n",
       "      <th>min</th>\n",
       "      <td>150.000000</td>\n",
       "      <td>0.000000</td>\n",
       "      <td>9.000000</td>\n",
       "      <td>12.00000</td>\n",
       "      <td>0.000000</td>\n",
       "    </tr>\n",
       "    <tr>\n",
       "      <th>25%</th>\n",
       "      <td>2877.500000</td>\n",
       "      <td>0.000000</td>\n",
       "      <td>100.000000</td>\n",
       "      <td>360.00000</td>\n",
       "      <td>1.000000</td>\n",
       "    </tr>\n",
       "    <tr>\n",
       "      <th>50%</th>\n",
       "      <td>3812.500000</td>\n",
       "      <td>1188.500000</td>\n",
       "      <td>128.000000</td>\n",
       "      <td>360.00000</td>\n",
       "      <td>1.000000</td>\n",
       "    </tr>\n",
       "    <tr>\n",
       "      <th>75%</th>\n",
       "      <td>5795.000000</td>\n",
       "      <td>2297.250000</td>\n",
       "      <td>168.000000</td>\n",
       "      <td>360.00000</td>\n",
       "      <td>1.000000</td>\n",
       "    </tr>\n",
       "    <tr>\n",
       "      <th>max</th>\n",
       "      <td>81000.000000</td>\n",
       "      <td>41667.000000</td>\n",
       "      <td>700.000000</td>\n",
       "      <td>480.00000</td>\n",
       "      <td>1.000000</td>\n",
       "    </tr>\n",
       "  </tbody>\n",
       "</table>\n",
       "</div>"
      ],
      "text/plain": [
       "       ApplicantIncome  CoapplicantIncome  LoanAmount  Loan_Amount_Term  \\\n",
       "count       614.000000         614.000000  592.000000         600.00000   \n",
       "mean       5403.459283        1621.245798  146.412162         342.00000   \n",
       "std        6109.041673        2926.248369   85.587325          65.12041   \n",
       "min         150.000000           0.000000    9.000000          12.00000   \n",
       "25%        2877.500000           0.000000  100.000000         360.00000   \n",
       "50%        3812.500000        1188.500000  128.000000         360.00000   \n",
       "75%        5795.000000        2297.250000  168.000000         360.00000   \n",
       "max       81000.000000       41667.000000  700.000000         480.00000   \n",
       "\n",
       "       Credit_History  \n",
       "count      564.000000  \n",
       "mean         0.842199  \n",
       "std          0.364878  \n",
       "min          0.000000  \n",
       "25%          1.000000  \n",
       "50%          1.000000  \n",
       "75%          1.000000  \n",
       "max          1.000000  "
      ]
     },
     "execution_count": 45,
     "metadata": {},
     "output_type": "execute_result"
    }
   ],
   "source": [
    "train.describe()"
   ]
  },
  {
   "cell_type": "markdown",
   "id": "b72ecbed-625d-4e3d-82b3-62eb9e533c07",
   "metadata": {},
   "source": [
    "###"
   ]
  },
  {
   "cell_type": "markdown",
   "id": "de885ee9-00bc-4d74-87dd-1df35796d1ea",
   "metadata": {},
   "source": [
    "Dans cette section, nous allons examiner la structure des données de train et de test. Tout d'abord, nous allons vérifier les features présentes dans nos données et ensuite nous allons regarder leurs types."
   ]
  },
  {
   "cell_type": "code",
   "execution_count": 46,
   "id": "eb5d3a05-bef3-45e6-94f9-00d1d3c56e46",
   "metadata": {},
   "outputs": [
    {
     "data": {
      "text/plain": [
       "Index(['Loan_ID', 'Gender', 'Married', 'Dependents', 'Education',\n",
       "       'Self_Employed', 'ApplicantIncome', 'CoapplicantIncome', 'LoanAmount',\n",
       "       'Loan_Amount_Term', 'Credit_History', 'Property_Area', 'Loan_Status'],\n",
       "      dtype='object')"
      ]
     },
     "execution_count": 46,
     "metadata": {},
     "output_type": "execute_result"
    }
   ],
   "source": [
    "train.columns"
   ]
  },
  {
   "cell_type": "markdown",
   "id": "2c6ba905-b825-483d-942f-015627c6c57c",
   "metadata": {},
   "source": [
    "Nous avons 12 variables indépendantes et 1 target variable"
   ]
  },
  {
   "cell_type": "code",
   "execution_count": 47,
   "id": "f2ba6cda-015d-4b7e-9185-0f8c273cdd18",
   "metadata": {},
   "outputs": [
    {
     "data": {
      "text/plain": [
       "Index(['Loan_ID', 'Gender', 'Married', 'Dependents', 'Education',\n",
       "       'Self_Employed', 'ApplicantIncome', 'CoapplicantIncome', 'LoanAmount',\n",
       "       'Loan_Amount_Term', 'Credit_History', 'Property_Area'],\n",
       "      dtype='object')"
      ]
     },
     "execution_count": 47,
     "metadata": {},
     "output_type": "execute_result"
    }
   ],
   "source": [
    "test.columns"
   ]
  },
  {
   "cell_type": "markdown",
   "id": "65dba18e-18ae-44d5-984e-61a9fd87ebf8",
   "metadata": {},
   "source": [
    "Nous avons des features similaires dans le test datasets que dans le train datasets, à l'exception du Loan_status. Nous prédirons Loan_status à l'aide du modèle construit utilisant le train datasets.\n",
    "\n",
    "Vous trouverez ci-dessous la description de chaque variable."
   ]
  },
  {
   "cell_type": "markdown",
   "id": "38a74890-d187-47a2-a7cf-c4e6d7a291ee",
   "metadata": {},
   "source": [
    "| Variables        | Description                                  |\n",
    "| ---------------- | -------------------------------------------  |\n",
    "| Loan_ID          | Unique Loan ID                               |\n",
    "| Gender           | Male/Female                                  |\n",
    "| Married          | Applicant Married (Y/N)                      |\n",
    "| Dependents       | Number of dependents                         |\n",
    "| Education        | Applicant Education (Graduate/Under Graduate)|\n",
    "| Self_Employed    | Self employed (Y/N)                          |\n",
    "| ApplicantIncome  | Applicant income                             |\n",
    "| CoapplicantIncome| Co-applicant Income                          |\n",
    "| LoanAmount       | Loan amount in thousands                     |\n",
    "| Loan_Amount_Term | Term of loan in months                       |\n",
    "| Credit_History   | Credit history meets guidelines              |\n",
    "| Property_Area    | Urban/ Semi Urban/ Rural                     |\n",
    "| Loan_Status      | Loan approved (Y/N)                          |"
   ]
  },
  {
   "cell_type": "code",
   "execution_count": 48,
   "id": "408f1c79-7e4d-4714-9793-389ce3644707",
   "metadata": {},
   "outputs": [
    {
     "data": {
      "text/plain": [
       "Loan_ID               object\n",
       "Gender                object\n",
       "Married               object\n",
       "Dependents            object\n",
       "Education             object\n",
       "Self_Employed         object\n",
       "ApplicantIncome        int64\n",
       "CoapplicantIncome    float64\n",
       "LoanAmount           float64\n",
       "Loan_Amount_Term     float64\n",
       "Credit_History       float64\n",
       "Property_Area         object\n",
       "Loan_Status           object\n",
       "dtype: object"
      ]
     },
     "execution_count": 48,
     "metadata": {},
     "output_type": "execute_result"
    }
   ],
   "source": [
    "# Print data types for each variable \n",
    "train.dtypes"
   ]
  },
  {
   "cell_type": "markdown",
   "id": "c461975f-6e05-4384-8dcc-605a3ad822fc",
   "metadata": {},
   "source": [
    "Nous pouvons voir qu'il y a trois types de formats de données:\n",
    "\n",
    "<ul>\n",
    "<li><b>object</b> : Le format objet signifie que les variables sont catégorielles. Les variables catégorielles dans notre jeu de données sont : ID de prêt, genre, marié, dépendants, éducation, auto-employé, zone de propriété, statut de prêt </li>\n",
    "<li><b>int64</b> : Il représente les variables entières. Le revenu des demandeurs est de ce format.</li>\n",
    "<li><b>float64</b> : Il représente les variables qui ont des valeurs décimales impliquées. Ce sont également des variables numériques. Les variables numériques dans notre jeu de données sont : revenu du co-emprunteur, montant du prêt, durée du prêt et historique de crédit </li>"
   ]
  },
  {
   "cell_type": "markdown",
   "id": "b152df51-712f-4f6a-8d26-45b5c0d93c8f",
   "metadata": {},
   "source": [
    "Dans cette section, nous ferons une analyse univariée. C'est la forme la plus simple d'analyse des données où nous examinons chaque variable individuellement. "
   ]
  },
  {
   "cell_type": "markdown",
   "id": "22aea065-d80f-47e5-b6dc-ab321de054b2",
   "metadata": {},
   "source": [
    "## <h1 style='border-radius:10px; background-color:#4B65FB; font-size:180%; color:#FFFFFF; text-align: center; font-style:italic; font-family: Cursive'><center> Data Visualization</center></h1>  "
   ]
  },
  {
   "cell_type": "markdown",
   "id": "9d4e4126-934e-4307-a5d2-1a96900cca5c",
   "metadata": {},
   "source": [
    "### Target Variable\n",
    "Nous allons d'abord regarder le target variable, c'est-à-dire le Loan_Status. Comme c'est une variable catégorielle, regardons son tableau de fréquences, sa distribution en pourcentage et son graphique à barres.\n",
    "Le tableau de fréquences d'une variable nous donnera le décompte de chaque catégorie dans cette variable."
   ]
  },
  {
   "cell_type": "code",
   "execution_count": 49,
   "id": "fbf7d920-24b6-46a9-9d3a-551c66be0db9",
   "metadata": {},
   "outputs": [
    {
     "data": {
      "text/plain": [
       "Y    422\n",
       "N    192\n",
       "Name: Loan_Status, dtype: int64"
      ]
     },
     "execution_count": 49,
     "metadata": {},
     "output_type": "execute_result"
    }
   ],
   "source": [
    "train['Loan_Status'].value_counts()"
   ]
  },
  {
   "cell_type": "code",
   "execution_count": 50,
   "id": "90fb9513-e6e7-4299-98d7-9fe723cdc037",
   "metadata": {},
   "outputs": [
    {
     "data": {
      "text/plain": [
       "Y    0.687296\n",
       "N    0.312704\n",
       "Name: Loan_Status, dtype: float64"
      ]
     },
     "execution_count": 50,
     "metadata": {},
     "output_type": "execute_result"
    },
    {
     "data": {
      "image/png": "[encoded data removed]",
      "text/plain": [
       "<Figure size 800x600 with 1 Axes>"
      ]
     },
     "metadata": {},
     "output_type": "display_data"
    }
   ],
   "source": [
    "# let's look at the target percentage\n",
    "\n",
    "plt.figure(figsize=(8,6))\n",
    "sns.countplot(train['Loan_Status']);\n",
    "\n",
    "# Normalize can be set to True to print proportions instead of number \n",
    "train['Loan_Status'].value_counts(normalize=True)\n"
   ]
  },
  {
   "cell_type": "markdown",
   "id": "c73bddeb-bba0-471f-a731-32fc233915de",
   "metadata": {},
   "source": [
    "Le prêt de 422 (environ 69%) personnes sur 614 a été approuvé.\n",
    "\n",
    "Maintenant, visualisons chaque variable séparément. Les différents types de variables sont catégorielles, ordinales et numériques.\n",
    "\n",
    "<ul>\n",
    "<li><b>features catégorielles</b> : Ces caractéristiques ont des catégories (Gender, Married, Self_Employed, Credit_History,Loan_Status)</li>\n",
    "<li><b>features ordinales</b> : Les variables dans les caractéristiques catégorielles ayant un certain ordre impliqué (Dependents, Education, Property_Area)</li>\n",
    "<li><b>features numériques</b> : Ces caractéristiques ont des valeurs numériques (ApplicantIncome, CoapplicantIncome, LoanAmount, Loan_Amount_Term)</li>\n",
    "</ul>"
   ]
  },
  {
   "cell_type": "markdown",
   "id": "324565ca-c14a-43a8-823b-2396b1787634",
   "metadata": {},
   "source": [
    "Visualisons d’abord les features  catégoriques et ordinales.\n",
    "### Independent Variable (Categorical)"
   ]
  },
  {
   "cell_type": "code",
   "execution_count": 51,
   "id": "c78b5e11-fb0a-4012-bf3d-6ff89518978a",
   "metadata": {},
   "outputs": [
    {
     "data": {
      "image/png": "[encoded data removed]",
      "text/plain": [
       "<Figure size 2000x1000 with 4 Axes>"
      ]
     },
     "metadata": {},
     "output_type": "display_data"
    }
   ],
   "source": [
    "plt.figure(1)\n",
    "plt.subplot(221)\n",
    "train['Gender'].value_counts(normalize=True).plot.bar(figsize=(20,10), title= 'Gender') \n",
    "plt.subplot(222) \n",
    "train['Married'].value_counts(normalize=True).plot.bar(title= 'Married') \n",
    "plt.subplot(223) \n",
    "train['Self_Employed'].value_counts(normalize=True).plot.bar(title= 'Self_Employed') \n",
    "plt.subplot(224) \n",
    "train['Credit_History'].value_counts(normalize=True).plot.bar(title= 'Credit_History') \n",
    "plt.show()"
   ]
  },
  {
   "cell_type": "markdown",
   "id": "b72729a3-da3e-4968-b78f-3562824b3ed0",
   "metadata": {},
   "source": [
    "On peut déduire des graphiques ci-dessus que :\n",
    "<ul>\n",
    "<li>80 % des demandeurs dans notre dataset sont des hommes.</li>\n",
    "<li>Environ 65 % des demandeurs dans notre dataset sont mariés.</li>\n",
    "<li>Environ 15 % des demandeurs dans notre dataset sont des travailleurs indépendants..</li>\n",
    "<li>Environ 85 % des demandeurs ont remboursé leurs dettes.</li>\n",
    "</ul>"
   ]
  },
  {
   "cell_type": "markdown",
   "id": "af31b35a-f2ee-40cb-a793-507f48e36925",
   "metadata": {},
   "source": [
    "Maintenant, visualisons les variables ordinales.\n",
    "### Independent Variable (Ordinal)"
   ]
  },
  {
   "cell_type": "code",
   "execution_count": 52,
   "id": "7bf36ae3-69ce-4971-8873-26589ce3f3c1",
   "metadata": {},
   "outputs": [
    {
     "data": {
      "image/png": "[encoded data removed]",
      "text/plain": [
       "<Figure size 2400x600 with 3 Axes>"
      ]
     },
     "metadata": {},
     "output_type": "display_data"
    }
   ],
   "source": [
    "plt.figure(1) \n",
    "plt.subplot(131) \n",
    "train['Dependents'].value_counts(normalize=True).plot.bar(figsize=(24,6), title= 'Dependents') \n",
    "plt.subplot(132) \n",
    "train['Education'].value_counts(normalize=True).plot.bar(title= 'Education') \n",
    "plt.subplot(133) \n",
    "train['Property_Area'].value_counts(normalize=True).plot.bar(title= 'Property_Area') \n",
    "plt.show()"
   ]
  },
  {
   "cell_type": "markdown",
   "id": "fcadd60f-565e-4b1c-836a-e01edd408973",
   "metadata": {},
   "source": [
    "<ul>\n",
    "<li>La plupart des demandeurs n'ont pas de dépendants. </li>\n",
    "<li>Environ 80% des demandeurs sont diplômés.</li>\n",
    "<li>La plupart des demandeurs viennent de zones Semiurban.</li>\n",
    "</ul>"
   ]
  },
  {
   "cell_type": "markdown",
   "id": "38575e21-6a25-43cd-a62f-df952b68df50",
   "metadata": {},
   "source": [
    "### Independent Variable (Numerical)\n",
    "Jusqu'à présent, nous avons vu les variables catégorielles et ordinales et maintenant visualisons les variables numériques. Regardons d'abord la distribution de Applicant income."
   ]
  },
  {
   "cell_type": "code",
   "execution_count": 53,
   "id": "28506e11-1c62-4429-93b2-8ed325796ce6",
   "metadata": {},
   "outputs": [
    {
     "data": {
      "image/png": "[encoded data removed]",
      "text/plain": [
       "<Figure size 640x480 with 1 Axes>"
      ]
     },
     "metadata": {},
     "output_type": "display_data"
    }
   ],
   "source": [
    "plt.figure(1) \n",
    "sns.distplot(train['ApplicantIncome']); "
   ]
  },
  {
   "cell_type": "markdown",
   "id": "227085c3-de79-4a06-b14e-87453831286c",
   "metadata": {},
   "source": [
    "Il peut être déduit que la plupart des données dans la distribution du revenu des demandeurs se trouvent vers la gauche, ce qui signifie qu'elle n'est pas normalement distribuée. Nous essaierons de la rendre normale dans les sections suivantes car les algorithmes fonctionnent mieux si les données sont normalement distribuées."
   ]
  },
  {
   "cell_type": "code",
   "execution_count": 54,
   "id": "50aa593d-ad47-4481-9b36-19526d3787c5",
   "metadata": {},
   "outputs": [
    {
     "data": {
      "image/png": "[encoded data removed]",
      "text/plain": [
       "<Figure size 640x480 with 1 Axes>"
      ]
     },
     "metadata": {},
     "output_type": "display_data"
    }
   ],
   "source": [
    "plt.figure(1) \n",
    "sns.distplot(train['CoapplicantIncome']); "
   ]
  },
  {
   "cell_type": "markdown",
   "id": "5c8448a8-0d0c-474f-8d20-fea4a61bdd78",
   "metadata": {},
   "source": [
    "Nous constatons une distribution similaire à celle du applicant income. La plupart des revenus des co-emprunteurs se situent entre 0 et 5000. Nous voyons également beaucoup de valeurs aberrantes dans le revenu des co-emprunteurs et il n'est pas normalement distribué.\n",
    "\n",
    "Examinons maintenant la distribution de la variable LoanAmount."
   ]
  },
  {
   "cell_type": "code",
   "execution_count": 55,
   "id": "ba46eeb7-9529-43f5-abb7-1f62adefc1f1",
   "metadata": {},
   "outputs": [
    {
     "data": {
      "image/png": "[encoded data removed]",
      "text/plain": [
       "<Figure size 640x480 with 1 Axes>"
      ]
     },
     "metadata": {},
     "output_type": "display_data"
    }
   ],
   "source": [
    "plt.figure(1) \n",
    "df=train.dropna() \n",
    "sns.distplot(df['LoanAmount']); \n"
   ]
  },
  {
   "cell_type": "markdown",
   "id": "5e679672-2c15-4930-bc30-5502655bc0e9",
   "metadata": {},
   "source": [
    "Nous voyons beaucoup de valeurs aberrantes dans cette variable et la distribution est assez normale. Nous traiterons les valeurs aberrantes dans les sections suivantes."
   ]
  },
  {
   "cell_type": "markdown",
   "id": "04cfa1fd-8aa1-4cea-91b7-147a6a88b49d",
   "metadata": {
    "tags": []
   },
   "source": [
    "### Categorical Independent Variable vs Target Variable\n",
    "\n",
    "Tout d'abord, nous allons trouver la relation entre la variable target et les variables indépendantes catégorielles. Regardons maintenant le stacked bar plot qui nous donnera la proportion de prêts approuvés et non approuvés."
   ]
  },
  {
   "cell_type": "code",
   "execution_count": 56,
   "id": "7a359919-6e2b-47c0-8328-559dab35a98d",
   "metadata": {},
   "outputs": [
    {
     "data": {
      "image/png": "[encoded data removed]",
      "text/plain": [
       "<Figure size 1000x500 with 1 Axes>"
      ]
     },
     "metadata": {},
     "output_type": "display_data"
    }
   ],
   "source": [
    "# Credit_History\n",
    "\n",
    "Credit_History=pd.crosstab(train['Credit_History'],train['Loan_Status']) \n",
    "Credit_History.div(Credit_History.sum(1).astype(float), axis=0).plot(kind=\"bar\", stacked=True, figsize=(10,5)) \n",
    "plt.show() \n",
    "\n",
    "# nous n’avons pas accordé de prêt pour la plupart des gens qui ona Credit_History = 0\n",
    "# mais nous avons accordé un prêt pour la plupart des gens qui ona Credit_History = 1\n",
    "# Nous pouvons donc dire que si vous avez Credit_History = 1, vous aurez de meilleures chances d’obtenir un prêt.\n",
    "\n",
    "# feature importante"
   ]
  },
  {
   "cell_type": "code",
   "execution_count": 57,
   "id": "4fb1a340-7c1c-4a11-84c4-20e2a3a77061",
   "metadata": {},
   "outputs": [
    {
     "data": {
      "text/plain": [
       "<AxesSubplot:xlabel='Gender'>"
      ]
     },
     "execution_count": 57,
     "metadata": {},
     "output_type": "execute_result"
    },
    {
     "data": {
      "image/png": "[encoded data removed]",
      "text/plain": [
       "<Figure size 1000x500 with 1 Axes>"
      ]
     },
     "metadata": {},
     "output_type": "display_data"
    }
   ],
   "source": [
    "# Gender\n",
    "\n",
    "Gender=pd.crosstab(train['Gender'],train['Loan_Status']) \n",
    "Gender.div(Gender.sum(1).astype(float), axis=0).plot(kind=\"bar\", stacked=True, figsize=(10,5))\n",
    "\n",
    "# la plupart des hommes et femmes ont obtenu un prêt\n",
    "\n",
    "# je pense que ce n’est pas si important, nous verrons plus tard"
   ]
  },
  {
   "cell_type": "code",
   "execution_count": 58,
   "id": "149a8080-456c-4cb6-9afa-3c6542c424d1",
   "metadata": {},
   "outputs": [
    {
     "data": {
      "image/png": "[encoded data removed]",
      "text/plain": [
       "<Figure size 1000x500 with 1 Axes>"
      ]
     },
     "metadata": {},
     "output_type": "display_data"
    }
   ],
   "source": [
    "# Married\n",
    "\n",
    "Married=pd.crosstab(train['Married'],train['Loan_Status'])\n",
    "Married.div(Married.sum(1).astype(float), axis=0).plot(kind=\"bar\", stacked=True, figsize=(10,5)) \n",
    "plt.show()\n",
    "\n",
    "\n",
    "# la plupart des gens qui se marient ont obtenu un prêt\n",
    "# Si vous êtes marié, vous avez plus de chance d’obtenir un prêt\n",
    "# bonne feature"
   ]
  },
  {
   "cell_type": "code",
   "execution_count": 59,
   "id": "bd2b8904-8c24-49ef-94de-dbcbb7871835",
   "metadata": {},
   "outputs": [
    {
     "data": {
      "image/png": "[encoded data removed]",
      "text/plain": [
       "<Figure size 1000x500 with 1 Axes>"
      ]
     },
     "metadata": {},
     "output_type": "display_data"
    }
   ],
   "source": [
    "# Self Employed\n",
    "\n",
    "Self_Employed=pd.crosstab(train['Self_Employed'],train['Loan_Status'])\n",
    "Self_Employed.div(Self_Employed.sum(1).astype(float), axis=0).plot(kind=\"bar\", stacked=True, figsize=(10,5)) \n",
    "plt.show()\n",
    "\n",
    "# Il n’y a rien de significatif que nous pouvons déduire de la plot Self_Employed vs Loan_Status."
   ]
  },
  {
   "cell_type": "code",
   "execution_count": 60,
   "id": "73120f10-a58e-4358-9391-0ea9403db9ae",
   "metadata": {},
   "outputs": [
    {
     "data": {
      "image/png": "[encoded data removed]",
      "text/plain": [
       "<Figure size 640x480 with 1 Axes>"
      ]
     },
     "metadata": {},
     "output_type": "display_data"
    }
   ],
   "source": [
    "Property_Area=pd.crosstab(train['Property_Area'],train['Loan_Status']) \n",
    "Property_Area.div(Property_Area.sum(1).astype(float), axis=0).plot(kind=\"bar\", stacked=True) \n",
    "plt.show()\n",
    "\n",
    "# On peut dire que Semiurban Property_Area a plus de chance d’obtenir un prêt\n",
    "\n",
    "# bonne feature"
   ]
  },
  {
   "cell_type": "code",
   "execution_count": 61,
   "id": "ba3556d0-8bf5-4931-81b3-907139c21380",
   "metadata": {},
   "outputs": [
    {
     "data": {
      "image/png": "[encoded data removed]",
      "text/plain": [
       "<Figure size 640x480 with 1 Axes>"
      ]
     },
     "metadata": {},
     "output_type": "display_data"
    }
   ],
   "source": [
    "Dependents=pd.crosstab(train['Dependents'],train['Loan_Status']) \n",
    "Dependents.div(Dependents.sum(1).astype(float), axis=0).plot(kind=\"bar\", stacked=True) \n",
    "plt.show() "
   ]
  },
  {
   "cell_type": "markdown",
   "id": "48b2eada-affc-4dc5-ac1d-eb77cfa3e76a",
   "metadata": {},
   "source": [
    "La répartition des demandeurs ayant plus d’une personne à charge est semblable dans les deux catégories de Loan_Status."
   ]
  },
  {
   "cell_type": "code",
   "execution_count": 62,
   "id": "fd019f7c-9b82-4cc0-a34b-21364963c34f",
   "metadata": {},
   "outputs": [],
   "source": [
    "#bins=[0,2500,4000,6000,81000] \n",
    "#group=['Low','Average','High', 'Very high'] \n",
    "#train['Income_bin']=pd.cut(df['ApplicantIncome'],bins,labels=group)\n",
    "#Income_bin=pd.crosstab(train['Income_bin'],train['Loan_Status']) \n",
    "#Income_bin.div(Income_bin.sum(1).astype(float), axis=0).plot(kind=\"bar\", stacked=True) \n",
    "#plt.xlabel('ApplicantIncome') \n",
    "#P = plt.ylabel('Percentage')"
   ]
  },
  {
   "cell_type": "markdown",
   "id": "f7553820-3bbf-48a3-8af9-6ed688422ef9",
   "metadata": {},
   "source": [
    "On peut en déduire que le revenu du demandeur n’a aucune incidence sur les chances d’approbation du prêt."
   ]
  },
  {
   "cell_type": "markdown",
   "id": "b6dbedc0-697f-455b-bbe2-75f71065941c",
   "metadata": {},
   "source": [
    "Nous changerons la variable 3+ in dependents à 3 pour en faire une variable numérique.Nous convertirons également les catégories des target variable en 0 et 1 afin de trouver sa corrélation avec les variables numériques."
   ]
  },
  {
   "cell_type": "code",
   "execution_count": 63,
   "id": "f8d75986-4a2e-401f-a16f-bc56cc59f897",
   "metadata": {},
   "outputs": [],
   "source": [
    "train['Dependents'].replace('3+', 3,inplace=True) \n",
    "test['Dependents'].replace('3+', 3,inplace=True) \n",
    "train['Loan_Status'].replace('N', 0,inplace=True) \n",
    "train['Loan_Status'].replace('Y', 1,inplace=True)"
   ]
  },
  {
   "cell_type": "markdown",
   "id": "e7176e1a-3119-43f1-82ec-0c1fc8d45196",
   "metadata": {},
   "source": [
    "Examinons maintenant la corrélation entre toutes les variables numériques. Nous utiliserons heat map pour visualiser la corrélation."
   ]
  },
  {
   "cell_type": "code",
   "execution_count": 64,
   "id": "25138de5-86b7-44db-a308-875cb1ed09f8",
   "metadata": {},
   "outputs": [
    {
     "data": {
      "image/png": "[encoded data removed]",
      "text/plain": [
       "<Figure size 900x600 with 2 Axes>"
      ]
     },
     "metadata": {},
     "output_type": "display_data"
    }
   ],
   "source": [
    "matrix = train.corr() \n",
    "f, ax = plt.subplots(figsize=(9, 6)) \n",
    "sns.heatmap(matrix, vmax=.8, square=True, cmap=\"BuPu\");"
   ]
  },
  {
   "cell_type": "markdown",
   "id": "59563896-4cd1-4bf5-a6f0-76afb73860b3",
   "metadata": {},
   "source": [
    "Nous voyons que les variables les plus corrélées sont (ApplicantIncome - LoanAmount) et (Credit_History - Loan_Status). LoanAmount est également corrélé avec CoapplicantIncome."
   ]
  },
  {
   "cell_type": "markdown",
   "id": "b4c39530-4cfd-4294-b173-f08f503eea07",
   "metadata": {},
   "source": [
    "## <h1 style='border-radius:10px; background-color:#4B65FB; font-size:180%; color:#FFFFFF; text-align: center; font-style:italic; font-family: Cursive'><center> Missing value imputation</center></h1>  "
   ]
  },
  {
   "cell_type": "markdown",
   "id": "adb04674-aba5-4061-9d28-e573747d6ebf",
   "metadata": {},
   "source": [
    "Après avoir exploré toutes les variables de notre datasets, nous pouvons maintenant imputer les valeurs manquantes et traiter les valeurs aberrantes parce que les données manquantes et les valeurs aberrantes peuvent avoir un effet négatif sur le rendement du modèle."
   ]
  },
  {
   "cell_type": "code",
   "execution_count": 65,
   "id": "a4da625a-f059-4eee-b499-4e2b9acaafca",
   "metadata": {},
   "outputs": [
    {
     "data": {
      "text/plain": [
       "Loan_ID               0\n",
       "Gender               13\n",
       "Married               3\n",
       "Dependents           15\n",
       "Education             0\n",
       "Self_Employed        32\n",
       "ApplicantIncome       0\n",
       "CoapplicantIncome     0\n",
       "LoanAmount           22\n",
       "Loan_Amount_Term     14\n",
       "Credit_History       50\n",
       "Property_Area         0\n",
       "Loan_Status           0\n",
       "dtype: int64"
      ]
     },
     "execution_count": 65,
     "metadata": {},
     "output_type": "execute_result"
    }
   ],
   "source": [
    "train.isnull().sum()"
   ]
  },
  {
   "cell_type": "markdown",
   "id": "7b6ca9db-ebc7-411d-9739-2516658def0a",
   "metadata": {},
   "source": [
    "Il manque des valeurs dans Gender, Married, Dependents, Self_Employed, LoanAmount, Loan_Amount_Term and Credit_History features."
   ]
  },
  {
   "cell_type": "markdown",
   "id": "58e2b876-c6a2-4383-8b19-918f4617cc13",
   "metadata": {},
   "source": [
    "Nous traiterons les valeurs manquantes dans toutes les feature une par une.\n",
    "\n",
    "Nous pouvons considérer ces méthodes pour remplir les valeurs manquantes :"
   ]
  },
  {
   "cell_type": "markdown",
   "id": "d59e2102-bcf9-415d-b0a7-58ad317631fa",
   "metadata": {},
   "source": [
    "<ul>\n",
    "<li><b>Pour les variables numériques</b> : imputation en utilisant mean ou median</li>\n",
    "<li><b>Pour les variables catégorielles</b> : imputation en utilisant mode</li>\n",
    "</ul>\n",
    "\n",
    "\n",
    "Il y a beaucoup moins de valeurs manquantes dans les fonctions Sexe, Marié, Personnes à charge, Credit_History et Self_Employed afin que nous puissions les remplir en utilisant le mode des fonctions."
   ]
  },
  {
   "cell_type": "code",
   "execution_count": 66,
   "id": "bcaef4ce-7436-4ced-a7ac-b04e09a57ab0",
   "metadata": {},
   "outputs": [],
   "source": [
    "train['Gender'].fillna(train['Gender'].mode()[0], inplace=True) \n",
    "train['Married'].fillna(train['Married'].mode()[0], inplace=True) \n",
    "train['Dependents'].fillna(train['Dependents'].mode()[0], inplace=True) \n",
    "train['Self_Employed'].fillna(train['Self_Employed'].mode()[0], inplace=True) \n",
    "train['Credit_History'].fillna(train['Credit_History'].mode()[0], inplace=True)\n",
    "train['Loan_Amount_Term'].fillna(train['Loan_Amount_Term'].mode()[0], inplace=True)\n",
    "train['LoanAmount'].fillna(train['LoanAmount'].median(), inplace=True)"
   ]
  },
  {
   "cell_type": "code",
   "execution_count": 67,
   "id": "2d70f04b-75a2-4be4-9eb4-01cf1cf6f4f5",
   "metadata": {},
   "outputs": [
    {
     "data": {
      "text/plain": [
       "Loan_ID              0\n",
       "Gender               0\n",
       "Married              0\n",
       "Dependents           0\n",
       "Education            0\n",
       "Self_Employed        0\n",
       "ApplicantIncome      0\n",
       "CoapplicantIncome    0\n",
       "LoanAmount           0\n",
       "Loan_Amount_Term     0\n",
       "Credit_History       0\n",
       "Property_Area        0\n",
       "Loan_Status          0\n",
       "dtype: int64"
      ]
     },
     "execution_count": 67,
     "metadata": {},
     "output_type": "execute_result"
    }
   ],
   "source": [
    "train.isnull().sum()"
   ]
  },
  {
   "cell_type": "markdown",
   "id": "c99185b8-a423-4618-b8c5-c2c19037a648",
   "metadata": {},
   "source": [
    "Remplissons aussi toutes les valeurs manquantes dans le test dataset avec la même approche."
   ]
  },
  {
   "cell_type": "code",
   "execution_count": 68,
   "id": "021f69d1-8db0-43aa-a5a3-b110758deea7",
   "metadata": {},
   "outputs": [],
   "source": [
    "test['Gender'].fillna(train['Gender'].mode()[0], inplace=True) \n",
    "train['Married'].fillna(train['Married'].mode()[0], inplace=True)\n",
    "test['Dependents'].fillna(train['Dependents'].mode()[0], inplace=True) \n",
    "test['Self_Employed'].fillna(train['Self_Employed'].mode()[0], inplace=True) \n",
    "test['Credit_History'].fillna(train['Credit_History'].mode()[0], inplace=True) \n",
    "test['Loan_Amount_Term'].fillna(train['Loan_Amount_Term'].mode()[0], inplace=True) \n",
    "test['LoanAmount'].fillna(train['LoanAmount'].median(), inplace=True)"
   ]
  },
  {
   "cell_type": "code",
   "execution_count": 69,
   "id": "7cb0a3b7-29af-40df-9d82-4ec418e99443",
   "metadata": {},
   "outputs": [],
   "source": [
    "train=train.drop('Loan_ID',axis=1) \n",
    "#test=test.drop('Loan_ID',axis=1)"
   ]
  },
  {
   "cell_type": "markdown",
   "id": "e5e57e73-d8d6-4850-8bb5-400bfba2805d",
   "metadata": {},
   "source": [
    "Sklearn requiert target variable  dans le dataset. Nous allons donc supprimer target variable dans train datasets et l’enregistrer dans un autre dataset."
   ]
  },
  {
   "cell_type": "code",
   "execution_count": 70,
   "id": "4c38cf9a-ec3a-40df-abe3-af52110ea1e8",
   "metadata": {},
   "outputs": [],
   "source": [
    "X = train.drop('Loan_Status',1)\n",
    "y = train.Loan_Status"
   ]
  },
  {
   "cell_type": "code",
   "execution_count": 71,
   "id": "39d5c903-452a-401d-bfeb-4f30dcef69f1",
   "metadata": {},
   "outputs": [],
   "source": [
    "X=pd.get_dummies(X) \n",
    "train=pd.get_dummies(train) \n",
    "#test=pd.get_dummies(test)"
   ]
  },
  {
   "cell_type": "code",
   "execution_count": 72,
   "id": "60443285-8d76-4816-bd36-e3095abfe214",
   "metadata": {},
   "outputs": [
    {
     "data": {
      "text/html": [
       "<div>\n",
       "<style scoped>\n",
       "    .dataframe tbody tr th:only-of-type {\n",
       "        vertical-align: middle;\n",
       "    }\n",
       "\n",
       "    .dataframe tbody tr th {\n",
       "        vertical-align: top;\n",
       "    }\n",
       "\n",
       "    .dataframe thead th {\n",
       "        text-align: right;\n",
       "    }\n",
       "</style>\n",
       "<table border=\"1\" class=\"dataframe\">\n",
       "  <thead>\n",
       "    <tr style=\"text-align: right;\">\n",
       "      <th></th>\n",
       "      <th>ApplicantIncome</th>\n",
       "      <th>CoapplicantIncome</th>\n",
       "      <th>LoanAmount</th>\n",
       "      <th>Loan_Amount_Term</th>\n",
       "      <th>Credit_History</th>\n",
       "      <th>Gender_Female</th>\n",
       "      <th>Gender_Male</th>\n",
       "      <th>Married_No</th>\n",
       "      <th>Married_Yes</th>\n",
       "      <th>Dependents_3</th>\n",
       "      <th>Dependents_0</th>\n",
       "      <th>Dependents_1</th>\n",
       "      <th>Dependents_2</th>\n",
       "      <th>Education_Graduate</th>\n",
       "      <th>Education_Not Graduate</th>\n",
       "      <th>Self_Employed_No</th>\n",
       "      <th>Self_Employed_Yes</th>\n",
       "      <th>Property_Area_Rural</th>\n",
       "      <th>Property_Area_Semiurban</th>\n",
       "      <th>Property_Area_Urban</th>\n",
       "    </tr>\n",
       "  </thead>\n",
       "  <tbody>\n",
       "    <tr>\n",
       "      <th>0</th>\n",
       "      <td>5849</td>\n",
       "      <td>0.0</td>\n",
       "      <td>128.0</td>\n",
       "      <td>360.0</td>\n",
       "      <td>1.0</td>\n",
       "      <td>0</td>\n",
       "      <td>1</td>\n",
       "      <td>1</td>\n",
       "      <td>0</td>\n",
       "      <td>0</td>\n",
       "      <td>1</td>\n",
       "      <td>0</td>\n",
       "      <td>0</td>\n",
       "      <td>1</td>\n",
       "      <td>0</td>\n",
       "      <td>1</td>\n",
       "      <td>0</td>\n",
       "      <td>0</td>\n",
       "      <td>0</td>\n",
       "      <td>1</td>\n",
       "    </tr>\n",
       "    <tr>\n",
       "      <th>1</th>\n",
       "      <td>4583</td>\n",
       "      <td>1508.0</td>\n",
       "      <td>128.0</td>\n",
       "      <td>360.0</td>\n",
       "      <td>1.0</td>\n",
       "      <td>0</td>\n",
       "      <td>1</td>\n",
       "      <td>0</td>\n",
       "      <td>1</td>\n",
       "      <td>0</td>\n",
       "      <td>0</td>\n",
       "      <td>1</td>\n",
       "      <td>0</td>\n",
       "      <td>1</td>\n",
       "      <td>0</td>\n",
       "      <td>1</td>\n",
       "      <td>0</td>\n",
       "      <td>1</td>\n",
       "      <td>0</td>\n",
       "      <td>0</td>\n",
       "    </tr>\n",
       "    <tr>\n",
       "      <th>2</th>\n",
       "      <td>3000</td>\n",
       "      <td>0.0</td>\n",
       "      <td>66.0</td>\n",
       "      <td>360.0</td>\n",
       "      <td>1.0</td>\n",
       "      <td>0</td>\n",
       "      <td>1</td>\n",
       "      <td>0</td>\n",
       "      <td>1</td>\n",
       "      <td>0</td>\n",
       "      <td>1</td>\n",
       "      <td>0</td>\n",
       "      <td>0</td>\n",
       "      <td>1</td>\n",
       "      <td>0</td>\n",
       "      <td>0</td>\n",
       "      <td>1</td>\n",
       "      <td>0</td>\n",
       "      <td>0</td>\n",
       "      <td>1</td>\n",
       "    </tr>\n",
       "    <tr>\n",
       "      <th>3</th>\n",
       "      <td>2583</td>\n",
       "      <td>2358.0</td>\n",
       "      <td>120.0</td>\n",
       "      <td>360.0</td>\n",
       "      <td>1.0</td>\n",
       "      <td>0</td>\n",
       "      <td>1</td>\n",
       "      <td>0</td>\n",
       "      <td>1</td>\n",
       "      <td>0</td>\n",
       "      <td>1</td>\n",
       "      <td>0</td>\n",
       "      <td>0</td>\n",
       "      <td>0</td>\n",
       "      <td>1</td>\n",
       "      <td>1</td>\n",
       "      <td>0</td>\n",
       "      <td>0</td>\n",
       "      <td>0</td>\n",
       "      <td>1</td>\n",
       "    </tr>\n",
       "    <tr>\n",
       "      <th>4</th>\n",
       "      <td>6000</td>\n",
       "      <td>0.0</td>\n",
       "      <td>141.0</td>\n",
       "      <td>360.0</td>\n",
       "      <td>1.0</td>\n",
       "      <td>0</td>\n",
       "      <td>1</td>\n",
       "      <td>1</td>\n",
       "      <td>0</td>\n",
       "      <td>0</td>\n",
       "      <td>1</td>\n",
       "      <td>0</td>\n",
       "      <td>0</td>\n",
       "      <td>1</td>\n",
       "      <td>0</td>\n",
       "      <td>1</td>\n",
       "      <td>0</td>\n",
       "      <td>0</td>\n",
       "      <td>0</td>\n",
       "      <td>1</td>\n",
       "    </tr>\n",
       "  </tbody>\n",
       "</table>\n",
       "</div>"
      ],
      "text/plain": [
       "   ApplicantIncome  CoapplicantIncome  LoanAmount  Loan_Amount_Term  \\\n",
       "0             5849                0.0       128.0             360.0   \n",
       "1             4583             1508.0       128.0             360.0   \n",
       "2             3000                0.0        66.0             360.0   \n",
       "3             2583             2358.0       120.0             360.0   \n",
       "4             6000                0.0       141.0             360.0   \n",
       "\n",
       "   Credit_History  Gender_Female  Gender_Male  Married_No  Married_Yes  \\\n",
       "0             1.0              0            1           1            0   \n",
       "1             1.0              0            1           0            1   \n",
       "2             1.0              0            1           0            1   \n",
       "3             1.0              0            1           0            1   \n",
       "4             1.0              0            1           1            0   \n",
       "\n",
       "   Dependents_3  Dependents_0  Dependents_1  Dependents_2  Education_Graduate  \\\n",
       "0             0             1             0             0                   1   \n",
       "1             0             0             1             0                   1   \n",
       "2             0             1             0             0                   1   \n",
       "3             0             1             0             0                   0   \n",
       "4             0             1             0             0                   1   \n",
       "\n",
       "   Education_Not Graduate  Self_Employed_No  Self_Employed_Yes  \\\n",
       "0                       0                 1                  0   \n",
       "1                       0                 1                  0   \n",
       "2                       0                 0                  1   \n",
       "3                       1                 1                  0   \n",
       "4                       0                 1                  0   \n",
       "\n",
       "   Property_Area_Rural  Property_Area_Semiurban  Property_Area_Urban  \n",
       "0                    0                        0                    1  \n",
       "1                    1                        0                    0  \n",
       "2                    0                        0                    1  \n",
       "3                    0                        0                    1  \n",
       "4                    0                        0                    1  "
      ]
     },
     "execution_count": 72,
     "metadata": {},
     "output_type": "execute_result"
    }
   ],
   "source": [
    "X.head()\n"
   ]
  },
  {
   "cell_type": "code",
   "execution_count": 73,
   "id": "d4dfab46-a5ed-450b-9eae-9dce2ac454db",
   "metadata": {},
   "outputs": [
    {
     "data": {
      "text/html": [
       "<div>\n",
       "<style scoped>\n",
       "    .dataframe tbody tr th:only-of-type {\n",
       "        vertical-align: middle;\n",
       "    }\n",
       "\n",
       "    .dataframe tbody tr th {\n",
       "        vertical-align: top;\n",
       "    }\n",
       "\n",
       "    .dataframe thead th {\n",
       "        text-align: right;\n",
       "    }\n",
       "</style>\n",
       "<table border=\"1\" class=\"dataframe\">\n",
       "  <thead>\n",
       "    <tr style=\"text-align: right;\">\n",
       "      <th></th>\n",
       "      <th>ApplicantIncome</th>\n",
       "      <th>CoapplicantIncome</th>\n",
       "      <th>LoanAmount</th>\n",
       "      <th>Loan_Amount_Term</th>\n",
       "      <th>Credit_History</th>\n",
       "      <th>Loan_Status</th>\n",
       "      <th>Gender_Female</th>\n",
       "      <th>Gender_Male</th>\n",
       "      <th>Married_No</th>\n",
       "      <th>Married_Yes</th>\n",
       "      <th>...</th>\n",
       "      <th>Dependents_0</th>\n",
       "      <th>Dependents_1</th>\n",
       "      <th>Dependents_2</th>\n",
       "      <th>Education_Graduate</th>\n",
       "      <th>Education_Not Graduate</th>\n",
       "      <th>Self_Employed_No</th>\n",
       "      <th>Self_Employed_Yes</th>\n",
       "      <th>Property_Area_Rural</th>\n",
       "      <th>Property_Area_Semiurban</th>\n",
       "      <th>Property_Area_Urban</th>\n",
       "    </tr>\n",
       "  </thead>\n",
       "  <tbody>\n",
       "    <tr>\n",
       "      <th>0</th>\n",
       "      <td>5849</td>\n",
       "      <td>0.0</td>\n",
       "      <td>128.0</td>\n",
       "      <td>360.0</td>\n",
       "      <td>1.0</td>\n",
       "      <td>1</td>\n",
       "      <td>0</td>\n",
       "      <td>1</td>\n",
       "      <td>1</td>\n",
       "      <td>0</td>\n",
       "      <td>...</td>\n",
       "      <td>1</td>\n",
       "      <td>0</td>\n",
       "      <td>0</td>\n",
       "      <td>1</td>\n",
       "      <td>0</td>\n",
       "      <td>1</td>\n",
       "      <td>0</td>\n",
       "      <td>0</td>\n",
       "      <td>0</td>\n",
       "      <td>1</td>\n",
       "    </tr>\n",
       "    <tr>\n",
       "      <th>1</th>\n",
       "      <td>4583</td>\n",
       "      <td>1508.0</td>\n",
       "      <td>128.0</td>\n",
       "      <td>360.0</td>\n",
       "      <td>1.0</td>\n",
       "      <td>0</td>\n",
       "      <td>0</td>\n",
       "      <td>1</td>\n",
       "      <td>0</td>\n",
       "      <td>1</td>\n",
       "      <td>...</td>\n",
       "      <td>0</td>\n",
       "      <td>1</td>\n",
       "      <td>0</td>\n",
       "      <td>1</td>\n",
       "      <td>0</td>\n",
       "      <td>1</td>\n",
       "      <td>0</td>\n",
       "      <td>1</td>\n",
       "      <td>0</td>\n",
       "      <td>0</td>\n",
       "    </tr>\n",
       "    <tr>\n",
       "      <th>2</th>\n",
       "      <td>3000</td>\n",
       "      <td>0.0</td>\n",
       "      <td>66.0</td>\n",
       "      <td>360.0</td>\n",
       "      <td>1.0</td>\n",
       "      <td>1</td>\n",
       "      <td>0</td>\n",
       "      <td>1</td>\n",
       "      <td>0</td>\n",
       "      <td>1</td>\n",
       "      <td>...</td>\n",
       "      <td>1</td>\n",
       "      <td>0</td>\n",
       "      <td>0</td>\n",
       "      <td>1</td>\n",
       "      <td>0</td>\n",
       "      <td>0</td>\n",
       "      <td>1</td>\n",
       "      <td>0</td>\n",
       "      <td>0</td>\n",
       "      <td>1</td>\n",
       "    </tr>\n",
       "    <tr>\n",
       "      <th>3</th>\n",
       "      <td>2583</td>\n",
       "      <td>2358.0</td>\n",
       "      <td>120.0</td>\n",
       "      <td>360.0</td>\n",
       "      <td>1.0</td>\n",
       "      <td>1</td>\n",
       "      <td>0</td>\n",
       "      <td>1</td>\n",
       "      <td>0</td>\n",
       "      <td>1</td>\n",
       "      <td>...</td>\n",
       "      <td>1</td>\n",
       "      <td>0</td>\n",
       "      <td>0</td>\n",
       "      <td>0</td>\n",
       "      <td>1</td>\n",
       "      <td>1</td>\n",
       "      <td>0</td>\n",
       "      <td>0</td>\n",
       "      <td>0</td>\n",
       "      <td>1</td>\n",
       "    </tr>\n",
       "    <tr>\n",
       "      <th>4</th>\n",
       "      <td>6000</td>\n",
       "      <td>0.0</td>\n",
       "      <td>141.0</td>\n",
       "      <td>360.0</td>\n",
       "      <td>1.0</td>\n",
       "      <td>1</td>\n",
       "      <td>0</td>\n",
       "      <td>1</td>\n",
       "      <td>1</td>\n",
       "      <td>0</td>\n",
       "      <td>...</td>\n",
       "      <td>1</td>\n",
       "      <td>0</td>\n",
       "      <td>0</td>\n",
       "      <td>1</td>\n",
       "      <td>0</td>\n",
       "      <td>1</td>\n",
       "      <td>0</td>\n",
       "      <td>0</td>\n",
       "      <td>0</td>\n",
       "      <td>1</td>\n",
       "    </tr>\n",
       "  </tbody>\n",
       "</table>\n",
       "<p>5 rows × 21 columns</p>\n",
       "</div>"
      ],
      "text/plain": [
       "   ApplicantIncome  CoapplicantIncome  LoanAmount  Loan_Amount_Term  \\\n",
       "0             5849                0.0       128.0             360.0   \n",
       "1             4583             1508.0       128.0             360.0   \n",
       "2             3000                0.0        66.0             360.0   \n",
       "3             2583             2358.0       120.0             360.0   \n",
       "4             6000                0.0       141.0             360.0   \n",
       "\n",
       "   Credit_History  Loan_Status  Gender_Female  Gender_Male  Married_No  \\\n",
       "0             1.0            1              0            1           1   \n",
       "1             1.0            0              0            1           0   \n",
       "2             1.0            1              0            1           0   \n",
       "3             1.0            1              0            1           0   \n",
       "4             1.0            1              0            1           1   \n",
       "\n",
       "   Married_Yes  ...  Dependents_0  Dependents_1  Dependents_2  \\\n",
       "0            0  ...             1             0             0   \n",
       "1            1  ...             0             1             0   \n",
       "2            1  ...             1             0             0   \n",
       "3            1  ...             1             0             0   \n",
       "4            0  ...             1             0             0   \n",
       "\n",
       "   Education_Graduate  Education_Not Graduate  Self_Employed_No  \\\n",
       "0                   1                       0                 1   \n",
       "1                   1                       0                 1   \n",
       "2                   1                       0                 0   \n",
       "3                   0                       1                 1   \n",
       "4                   1                       0                 1   \n",
       "\n",
       "   Self_Employed_Yes  Property_Area_Rural  Property_Area_Semiurban  \\\n",
       "0                  0                    0                        0   \n",
       "1                  0                    1                        0   \n",
       "2                  1                    0                        0   \n",
       "3                  0                    0                        0   \n",
       "4                  0                    0                        0   \n",
       "\n",
       "   Property_Area_Urban  \n",
       "0                    1  \n",
       "1                    0  \n",
       "2                    1  \n",
       "3                    1  \n",
       "4                    1  \n",
       "\n",
       "[5 rows x 21 columns]"
      ]
     },
     "execution_count": 73,
     "metadata": {},
     "output_type": "execute_result"
    }
   ],
   "source": [
    "train.head()"
   ]
  },
  {
   "cell_type": "markdown",
   "id": "256c4d65-c3b7-478c-b431-0d4094d0dd52",
   "metadata": {},
   "source": [
    "Nous uheadserons la fonction train_test_split de sklearn pour diviser notre train datasets."
   ]
  },
  {
   "cell_type": "code",
   "execution_count": 74,
   "id": "4a69a58d-e96e-434f-9a3f-77282651bee0",
   "metadata": {},
   "outputs": [],
   "source": [
    "from sklearn.model_selection import train_test_split\n",
    "X_train, X_test, y_train, y_test = train_test_split(X,y, test_size =0.3)"
   ]
  },
  {
   "cell_type": "code",
   "execution_count": 75,
   "id": "4848c0a9-59d4-493d-a685-3c1820748a82",
   "metadata": {
    "tags": []
   },
   "outputs": [],
   "source": [
    "from sklearn.linear_model import LogisticRegression \n",
    "from sklearn.metrics import accuracy_score\n",
    "from sklearn.neighbors import KNeighborsClassifier\n",
    "from sklearn.ensemble import RandomForestClassifier\n",
    "from sklearn.model_selection import GridSearchCV\n",
    "from sklearn.tree import DecisionTreeClassifier\n",
    "from sklearn.metrics import classification_report\n",
    "from sklearn.svm import SVC\n",
    "from sklearn.metrics import confusion_matrix\n",
    "from sklearn import metrics\n",
    "\n",
    "models = {\n",
    "    'LogisticRegression': LogisticRegression(random_state=1),\n",
    "    'DecisionTreeClassifier': DecisionTreeClassifier(random_state=1),\n",
    "    'RandomForestClassifier': RandomForestClassifier(random_state=1, max_depth=3, n_estimators=41)\n",
    "}"
   ]
  },
  {
   "cell_type": "markdown",
   "id": "e2c023d0-5c5a-417f-8519-0d0e0953d114",
   "metadata": {},
   "source": [
    "# Training Models"
   ]
  },
  {
   "cell_type": "markdown",
   "id": "0ad9c1b0-0987-49ef-9e13-a35e221b55c3",
   "metadata": {},
   "source": [
    "**1. Logistic Regression**"
   ]
  },
  {
   "cell_type": "code",
   "execution_count": 91,
   "id": "9d955abb-0ff8-41ec-aa65-560db1c8f9c9",
   "metadata": {},
   "outputs": [
    {
     "data": {
      "text/plain": [
       "<sklearn.metrics._plot.confusion_matrix.ConfusionMatrixDisplay at 0x1983e319160>"
      ]
     },
     "execution_count": 91,
     "metadata": {},
     "output_type": "execute_result"
    },
    {
     "data": {
      "image/png": "[encoded data removed]",
      "text/plain": [
       "<Figure size 640x480 with 2 Axes>"
      ]
     },
     "metadata": {},
     "output_type": "display_data"
    }
   ],
   "source": [
    "lr_model = LogisticRegression(random_state=1)\n",
    "lr_model.fit(X_train, y_train)\n",
    "predicted=lr_model.predict(X_test)\n",
    "conf = confusion_matrix(y_test, predicted)\n",
    "\n",
    "cm_display = metrics.ConfusionMatrixDisplay(confusion_matrix = conf, display_labels = [False, True])\n",
    "cm_display.plot()"
   ]
  },
  {
   "cell_type": "code",
   "execution_count": 90,
   "id": "fef4f999-7b6a-4608-b7aa-e489bafd5fa0",
   "metadata": {},
   "outputs": [
    {
     "name": "stdout",
     "output_type": "stream",
     "text": [
      "              precision    recall  f1-score   support\n",
      "\n",
      "           0       0.63      0.37      0.47        59\n",
      "           1       0.75      0.90      0.82       126\n",
      "\n",
      "    accuracy                           0.73       185\n",
      "   macro avg       0.69      0.63      0.64       185\n",
      "weighted avg       0.71      0.73      0.71       185\n",
      "\n"
     ]
    }
   ],
   "source": [
    "report = classification_report(y_test, predicted)\n",
    "print(report)"
   ]
  },
  {
   "cell_type": "code",
   "execution_count": 92,
   "id": "274fc309-15ec-4070-8c42-5a032ac9a51b",
   "metadata": {},
   "outputs": [
    {
     "data": {
      "text/plain": [
       "<sklearn.metrics._plot.confusion_matrix.ConfusionMatrixDisplay at 0x1983f5c8c40>"
      ]
     },
     "execution_count": 92,
     "metadata": {},
     "output_type": "execute_result"
    },
    {
     "data": {
      "image/png": "[encoded data removed]",
      "text/plain": [
       "<Figure size 640x480 with 2 Axes>"
      ]
     },
     "metadata": {},
     "output_type": "display_data"
    }
   ],
   "source": [
    "lr_model_am = LogisticRegression(random_state=42,fit_intercept=True,C=3.317697704417197, solver='newton-cg')\n",
    "lr_model_am.fit(X_train, y_train)\n",
    "predicted=lr_model_am.predict(X_test)\n",
    "conf = confusion_matrix(y_test, predicted)\n",
    "\n",
    "cm_display = metrics.ConfusionMatrixDisplay(confusion_matrix = conf, display_labels = [False, True])\n",
    "cm_display.plot()"
   ]
  },
  {
   "cell_type": "code",
   "execution_count": 93,
   "id": "1a0f5543-2444-4663-ba99-c0fae46eddfa",
   "metadata": {},
   "outputs": [
    {
     "name": "stdout",
     "output_type": "stream",
     "text": [
      "              precision    recall  f1-score   support\n",
      "\n",
      "           0       0.89      0.41      0.56        59\n",
      "           1       0.78      0.98      0.87       126\n",
      "\n",
      "    accuracy                           0.79       185\n",
      "   macro avg       0.83      0.69      0.71       185\n",
      "weighted avg       0.81      0.79      0.77       185\n",
      "\n"
     ]
    }
   ],
   "source": [
    "report = classification_report(y_test, predicted)\n",
    "print(report)"
   ]
  },
  {
   "cell_type": "code",
   "execution_count": 80,
   "id": "a68bb0e1-d191-4949-a6d4-03ce83578e57",
   "metadata": {},
   "outputs": [],
   "source": [
    "from sklearn.discriminant_analysis import LinearDiscriminantAnalysis"
   ]
  },
  {
   "cell_type": "code",
   "execution_count": 81,
   "id": "aac700b4-5aae-4b78-ba39-4aa60c4d6e2d",
   "metadata": {},
   "outputs": [
    {
     "data": {
      "text/plain": [
       "<sklearn.metrics._plot.confusion_matrix.ConfusionMatrixDisplay at 0x1983e78e490>"
      ]
     },
     "execution_count": 81,
     "metadata": {},
     "output_type": "execute_result"
    },
    {
     "data": {
      "image/png": "[encoded data removed]",
      "text/plain": [
       "<Figure size 640x480 with 2 Axes>"
      ]
     },
     "metadata": {},
     "output_type": "display_data"
    }
   ],
   "source": [
    "lda_model = LinearDiscriminantAnalysis()\n",
    "lda_model.fit(X_train, y_train)\n",
    "predicted=lda_model.predict(X_test)\n",
    "conf = confusion_matrix(y_test, predicted)\n",
    "\n",
    "cm_display = metrics.ConfusionMatrixDisplay(confusion_matrix = conf, display_labels = [False, True])\n",
    "cm_display.plot()"
   ]
  },
  {
   "cell_type": "code",
   "execution_count": 82,
   "id": "78eb9760-f05e-4c25-8781-225f9b80fe3f",
   "metadata": {},
   "outputs": [
    {
     "name": "stdout",
     "output_type": "stream",
     "text": [
      "              precision    recall  f1-score   support\n",
      "\n",
      "           0       0.96      0.41      0.57        59\n",
      "           1       0.78      0.99      0.87       126\n",
      "\n",
      "    accuracy                           0.81       185\n",
      "   macro avg       0.87      0.70      0.72       185\n",
      "weighted avg       0.84      0.81      0.78       185\n",
      "\n"
     ]
    }
   ],
   "source": [
    "report = classification_report(y_test, predicted)\n",
    "print(report)"
   ]
  },
  {
   "cell_type": "markdown",
   "id": "a331c30e-c7bf-482c-bcc4-770d340fb485",
   "metadata": {},
   "source": [
    "**2.Decision Tree**"
   ]
  },
  {
   "cell_type": "code",
   "execution_count": 94,
   "id": "26ed0ef9-af49-40b7-a1d1-e21f111202f3",
   "metadata": {},
   "outputs": [
    {
     "data": {
      "text/plain": [
       "<sklearn.metrics._plot.confusion_matrix.ConfusionMatrixDisplay at 0x19840772f10>"
      ]
     },
     "execution_count": 94,
     "metadata": {},
     "output_type": "execute_result"
    },
    {
     "data": {
      "image/png": "[encoded data removed]",
      "text/plain": [
       "<Figure size 640x480 with 2 Axes>"
      ]
     },
     "metadata": {},
     "output_type": "display_data"
    }
   ],
   "source": [
    "tr_model = DecisionTreeClassifier()\n",
    "tr_model.fit(X_train, y_train)\n",
    "predicted=tr_model.predict(X_test)\n",
    "conf = confusion_matrix(y_test, predicted)\n",
    "\n",
    "cm_display = metrics.ConfusionMatrixDisplay(confusion_matrix = conf, display_labels = [False, True])\n",
    "cm_display.plot()"
   ]
  },
  {
   "cell_type": "code",
   "execution_count": 95,
   "id": "27537788-28fb-41e8-bbb7-9bec447b410f",
   "metadata": {},
   "outputs": [
    {
     "name": "stdout",
     "output_type": "stream",
     "text": [
      "              precision    recall  f1-score   support\n",
      "\n",
      "           0       0.61      0.53      0.56        59\n",
      "           1       0.79      0.84      0.82       126\n",
      "\n",
      "    accuracy                           0.74       185\n",
      "   macro avg       0.70      0.68      0.69       185\n",
      "weighted avg       0.73      0.74      0.74       185\n",
      "\n"
     ]
    }
   ],
   "source": [
    "report = classification_report(y_test, predicted)\n",
    "print(report)"
   ]
  },
  {
   "cell_type": "markdown",
   "id": "7e6275b7-5d09-45f6-a7de-0cebf8db4be2",
   "metadata": {},
   "source": [
    "**3.Random Forest**"
   ]
  },
  {
   "cell_type": "code",
   "execution_count": 96,
   "id": "4b3fd956-2d62-4eb0-ab1d-8dc8db5e6a62",
   "metadata": {},
   "outputs": [
    {
     "data": {
      "text/plain": [
       "<sklearn.metrics._plot.confusion_matrix.ConfusionMatrixDisplay at 0x1983e583f70>"
      ]
     },
     "execution_count": 96,
     "metadata": {},
     "output_type": "execute_result"
    },
    {
     "data": {
      "image/png": "[encoded data removed]",
      "text/plain": [
       "<Figure size 640x480 with 2 Axes>"
      ]
     },
     "metadata": {},
     "output_type": "display_data"
    }
   ],
   "source": [
    "rf_model = RandomForestClassifier()\n",
    "rf_model.fit(X_train, y_train)\n",
    "predicted=rf_model.predict(X_test)\n",
    "conf = confusion_matrix(y_test, predicted)\n",
    "\n",
    "cm_display = metrics.ConfusionMatrixDisplay(confusion_matrix = conf, display_labels = [False, True])\n",
    "cm_display.plot()"
   ]
  },
  {
   "cell_type": "code",
   "execution_count": 97,
   "id": "11f65075-32b7-4ac7-b662-a2babb60c28e",
   "metadata": {},
   "outputs": [
    {
     "name": "stdout",
     "output_type": "stream",
     "text": [
      "              precision    recall  f1-score   support\n",
      "\n",
      "           0       0.74      0.42      0.54        59\n",
      "           1       0.77      0.93      0.84       126\n",
      "\n",
      "    accuracy                           0.77       185\n",
      "   macro avg       0.76      0.68      0.69       185\n",
      "weighted avg       0.76      0.77      0.75       185\n",
      "\n"
     ]
    }
   ],
   "source": [
    "report = classification_report(y_test, predicted)\n",
    "print(report)"
   ]
  },
  {
   "cell_type": "code",
   "execution_count": null,
   "id": "f0b046c9-9e0a-46e9-9c3c-2fd0abadbf48",
   "metadata": {},
   "outputs": [
    {
     "name": "stdout",
     "output_type": "stream",
     "text": [
      "LR: 0.876082 (0.013156)\n",
      "LDA: 0.874622 (0.015685)\n",
      "KNN: 0.704115 (0.024234)\n",
      "CART: 0.775616 (0.044855)\n",
      "RFC: 0.855675 (0.012658)\n",
      "NB: 0.860055 (0.012588)\n",
      "SVM: 0.733238 (0.003334)\n"
     ]
    }
   ],
   "source": [
    "# Spot-Check Algorithms\n",
    "from sklearn.discriminant_analysis import LinearDiscriminantAnalysis\n",
    "from sklearn.naive_bayes import GaussianNB\n",
    "from sklearn.svm import SVC\n",
    "from sklearn.model_selection import cross_val_score\n",
    "from sklearn.model_selection import KFold\n",
    "from sklearn.model_selection import StratifiedKFold\n",
    "from sklearn.model_selection import GroupKFold\n",
    "\n",
    "models = []\n",
    "models.append(('LR', LogisticRegression()))\n",
    "models.append(('LDA', LinearDiscriminantAnalysis()))\n",
    "models.append(('KNN', KNeighborsClassifier()))\n",
    "models.append(('CART', DecisionTreeClassifier()))\n",
    "models.append(('RFC', RandomForestClassifier()))\n",
    "models.append(('NB', GaussianNB()))\n",
    "models.append(('SVM', SVC()))\n",
    "# evaluate each model in turn\n",
    "results = []\n",
    "names = []\n",
    "for name, model in models:\n",
    "    \n",
    "    kfold = KFold(n_splits=5, random_state=7, shuffle= True)\n",
    "    cv =StratifiedKFold(n_splits=5,random_state=1,shuffle=True)\n",
    "    cv_results = cross_val_score(model, X_train, y_train, cv=cv, scoring='accuracy')\n",
    "    results.append(cv_results)\n",
    "    names.append(name)\n",
    "    msg = \"%s: %f (%f)\" % (name, cv_results.mean(), cv_results.std())\n",
    "    print(msg)"
   ]
  },
  {
   "cell_type": "code",
   "execution_count": 84,
   "id": "1cc48f40-b3e2-4d17-9da8-e970d396851b",
   "metadata": {},
   "outputs": [
    {
     "name": "stdout",
     "output_type": "stream",
     "text": [
      "OrderedDict([('C', 34058.19149792883), ('fit_intercept', False), ('solver', 'lbfgs')])\n",
      "0.8134610123119016\n"
     ]
    }
   ],
   "source": [
    "import numpy as np\n",
    "import pandas as pd\n",
    "from sklearn.linear_model import LogisticRegression\n",
    "from skopt import BayesSearchCV\n",
    "# Define the hyperparameter search space\n",
    "param_space = {\n",
    "    \"C\": (1e-6, 1e+6, \"log-uniform\"),\n",
    "    \"fit_intercept\": [True, False],\n",
    "    \"solver\": [\"newton-cg\", \"lbfgs\", \"liblinear\", \"sag\", \"saga\"],\n",
    "}\n",
    "\n",
    "# Initialize the logistic regression model\n",
    "log_reg = LogisticRegression(max_iter=10000)\n",
    "\n",
    "# Initialize the Bayesian optimization with the logistic regression model and the search space\n",
    "opt = BayesSearchCV(log_reg, param_space, n_iter=100, random_state=1)\n",
    "\n",
    "# Fit the model to the data\n",
    "opt.fit(X_train, y_train)\n",
    "\n",
    "# Get the best hyperparameters found\n",
    "best_params = opt.best_params_\n",
    "\n",
    "# Get the best score achieved\n",
    "best_score = opt.best_score_\n",
    "\n",
    "print(best_params)\n",
    "print(best_score)"
   ]
  },
  {
   "cell_type": "code",
   "execution_count": null,
   "id": "336f4461-16d8-4648-80a7-20ba4e573c91",
   "metadata": {},
   "outputs": [],
   "source": []
  },
  {
   "cell_type": "code",
   "execution_count": null,
   "id": "50c1e98a-73f3-4ee9-ba96-df95d14f3f03",
   "metadata": {},
   "outputs": [],
   "source": []
  },
  {
   "cell_type": "code",
   "execution_count": null,
   "id": "60720513-232b-4e75-882b-242d593f7b6c",
   "metadata": {},
   "outputs": [],
   "source": []
  },
  {
   "cell_type": "code",
   "execution_count": null,
   "id": "82570896-f53e-411a-95a9-8a2902e7a698",
   "metadata": {},
   "outputs": [],
   "source": []
  },
  {
   "cell_type": "code",
   "execution_count": null,
   "id": "8d4f9790-ae53-4ec9-bd6c-bab6c432ec05",
   "metadata": {},
   "outputs": [],
   "source": []
  },
  {
   "cell_type": "code",
   "execution_count": null,
   "id": "2a688a6a-6b78-44b2-bf88-2ec2ddb8b057",
   "metadata": {},
   "outputs": [],
   "source": []
  },
  {
   "cell_type": "code",
   "execution_count": null,
   "id": "7b9c7b05-cefe-4fd1-bfc5-a4f85b9cebc8",
   "metadata": {},
   "outputs": [],
   "source": []
  },
  {
   "cell_type": "code",
   "execution_count": null,
   "id": "58899018-4171-4f1a-9f10-f9fb4868afc1",
   "metadata": {},
   "outputs": [],
   "source": []
  },
  {
   "cell_type": "code",
   "execution_count": null,
   "id": "b35b4faa-ff47-448c-ac98-65b7e80b5eff",
   "metadata": {},
   "outputs": [],
   "source": []
  },
  {
   "cell_type": "code",
   "execution_count": null,
   "id": "43b038e1-0890-4e37-8a4d-5fa9c733e79f",
   "metadata": {},
   "outputs": [],
   "source": []
  },
  {
   "cell_type": "code",
   "execution_count": null,
   "id": "8ae618e4-e4db-4e9f-87ba-632c78011d45",
   "metadata": {},
   "outputs": [],
   "source": []
  },
  {
   "cell_type": "code",
   "execution_count": null,
   "id": "0146031e-522b-4313-afc5-370d7300d5fd",
   "metadata": {},
   "outputs": [],
   "source": []
  },
  {
   "cell_type": "code",
   "execution_count": null,
   "id": "5b8bfb83-a534-4ac4-941c-06ca373245b1",
   "metadata": {},
   "outputs": [],
   "source": []
  },
  {
   "cell_type": "code",
   "execution_count": 75,
   "id": "c99b7ace-ce92-4ae6-989a-9694fd9e9887",
   "metadata": {},
   "outputs": [
    {
     "ename": "TypeError",
     "evalue": "__init__() got an unexpected keyword argument 'max_iter'",
     "output_type": "error",
     "traceback": [
      "\u001b[1;31m---------------------------------------------------------------------------\u001b[0m",
      "\u001b[1;31mTypeError\u001b[0m                                 Traceback (most recent call last)",
      "\u001b[1;32m~\\AppData\\Local\\Temp\\ipykernel_13792\\1083731598.py\u001b[0m in \u001b[0;36m<module>\u001b[1;34m\u001b[0m\n\u001b[0;32m     11\u001b[0m \u001b[1;33m\u001b[0m\u001b[0m\n\u001b[0;32m     12\u001b[0m \u001b[1;31m# Initialize the logistic regression model\u001b[0m\u001b[1;33m\u001b[0m\u001b[1;33m\u001b[0m\u001b[0m\n\u001b[1;32m---> 13\u001b[1;33m \u001b[0mlog_reg\u001b[0m \u001b[1;33m=\u001b[0m \u001b[0mLinearDiscriminantAnalysis\u001b[0m\u001b[1;33m(\u001b[0m\u001b[0mmax_iter\u001b[0m\u001b[1;33m=\u001b[0m\u001b[1;36m10000\u001b[0m\u001b[1;33m)\u001b[0m\u001b[1;33m\u001b[0m\u001b[1;33m\u001b[0m\u001b[0m\n\u001b[0m\u001b[0;32m     14\u001b[0m \u001b[1;33m\u001b[0m\u001b[0m\n\u001b[0;32m     15\u001b[0m \u001b[1;31m# Initialize the Bayesian optimization with the logistic regression model and the search space\u001b[0m\u001b[1;33m\u001b[0m\u001b[1;33m\u001b[0m\u001b[0m\n",
      "\u001b[1;31mTypeError\u001b[0m: __init__() got an unexpected keyword argument 'max_iter'"
     ]
    }
   ],
   "source": [
    "import numpy as np\n",
    "import pandas as pd\n",
    "from sklearn.linear_model import LogisticRegression\n",
    "from skopt import BayesSearchCV\n",
    "# Define the hyperparameter search space\n",
    "param_space = {\n",
    "    \"C\": (1e-6, 1e+6, \"log-uniform\"),\n",
    "    \"fit_intercept\": [True, False],\n",
    "    \"solver\": [\"newton-cg\", \"lbfgs\", \"liblinear\", \"sag\", \"saga\"],\n",
    "}\n",
    "\n",
    "# Initialize the logistic regression model\n",
    "log_reg = LogisticRegression(max_iter=10000)\n",
    "\n",
    "# Initialize the Bayesian optimization with the logistic regression model and the search space\n",
    "opt = BayesSearchCV(log_reg, param_space, n_iter=100, random_state=42)\n",
    "\n",
    "# Fit the model to the data\n",
    "opt.fit(X_train, y_train)\n",
    "\n",
    "# Get the best hyperparameters found\n",
    "best_params = opt.best_params_\n",
    "\n",
    "# Get the best score achieved\n",
    "best_score = opt.best_score_"
   ]
  },
  {
   "cell_type": "code",
   "execution_count": 76,
   "id": "f69e3de9-c6d2-4cbd-b3e6-51c908850f56",
   "metadata": {},
   "outputs": [
    {
     "name": "stdout",
     "output_type": "stream",
     "text": [
      "OrderedDict([('C', 25.406936492978463), ('fit_intercept', True), ('solver', 'liblinear')])\n",
      "0.8087277701778387\n"
     ]
    }
   ],
   "source": [
    "print(best_params)\n",
    "print(best_score)"
   ]
  },
  {
   "cell_type": "code",
   "execution_count": null,
   "id": "f1194c13-270e-4a35-938f-0603c65d09ee",
   "metadata": {},
   "outputs": [],
   "source": []
  },
  {
   "cell_type": "code",
   "execution_count": null,
   "id": "8926b7b1-71db-40a9-ab31-f87be69d4c0a",
   "metadata": {},
   "outputs": [],
   "source": []
  },
  {
   "cell_type": "code",
   "execution_count": null,
   "id": "6c5d63c1-c08b-42c8-8544-6c7dae7b3768",
   "metadata": {},
   "outputs": [],
   "source": []
  },
  {
   "cell_type": "code",
   "execution_count": null,
   "id": "6158987b-9738-4d7d-8f03-d6c31aa53479",
   "metadata": {},
   "outputs": [],
   "source": []
  },
  {
   "cell_type": "code",
   "execution_count": null,
   "id": "fd38a337-08b8-41a8-aceb-f0be49edace5",
   "metadata": {},
   "outputs": [],
   "source": []
  },
  {
   "cell_type": "code",
   "execution_count": null,
   "id": "bead846d-7f4a-4e16-8cb3-4ef7e6bcde12",
   "metadata": {},
   "outputs": [],
   "source": [
    "# train_eval_train\n",
    "\n",
    "\n",
    "\n",
    "def train_eval_train(models, X, y):\n",
    "    for name, model in models.items():\n",
    "        print(name,':')\n",
    "        model.fit(X, y)\n",
    "        y_pred =  model.predict(X)\n",
    "        #loss(y, model.predict(X))\n",
    "        \n",
    "        conf = confusion_matrix(y, y_pred)\n",
    "        cm_display = metrics.ConfusionMatrixDisplay(confusion_matrix = conf, display_labels = [False, True])\n",
    "        cm_display.plot()\n",
    "        report = classification_report(y, y_pred)\n",
    "        print(report)\n",
    "        \n",
    "        print('-'*30)\n",
    "        \n",
    "train_eval_train(models, X_train, y_train)\n",
    "\n",
    "# we can see that best model is LogisticRegression at least for now, SVC is just memorizing the data so it is overfitting ."
   ]
  },
  {
   "cell_type": "code",
   "execution_count": null,
   "id": "626e2fcf-b15f-45fe-93ec-1dd27b2fb1af",
   "metadata": {},
   "outputs": [],
   "source": []
  },
  {
   "cell_type": "code",
   "execution_count": null,
   "id": "87fecb06-bc25-4c4f-bac9-651c86348f36",
   "metadata": {},
   "outputs": [],
   "source": []
  },
  {
   "cell_type": "code",
   "execution_count": null,
   "id": "6b4f6a6c-a83c-4937-bd1f-4142c3249267",
   "metadata": {},
   "outputs": [],
   "source": []
  },
  {
   "cell_type": "code",
   "execution_count": null,
   "id": "700597ba-c49d-4ae1-988b-3bd65e3bfaf8",
   "metadata": {},
   "outputs": [],
   "source": []
  },
  {
   "cell_type": "code",
   "execution_count": null,
   "id": "bec98913-b321-4232-9bdc-c69848c9055b",
   "metadata": {},
   "outputs": [],
   "source": []
  },
  {
   "cell_type": "code",
   "execution_count": null,
   "id": "9b2067b4-f4b4-4939-8e56-fbb652d82263",
   "metadata": {},
   "outputs": [],
   "source": []
  },
  {
   "cell_type": "code",
   "execution_count": null,
   "id": "9963d895-fbb2-40cd-afcd-c946427a1185",
   "metadata": {},
   "outputs": [],
   "source": []
  },
  {
   "cell_type": "code",
   "execution_count": null,
   "id": "27539f55-5145-4583-8d32-9d02df5c4e42",
   "metadata": {},
   "outputs": [],
   "source": []
  }
 ],
 "metadata": {
  "kernelspec": {
   "display_name": "Python 3 (ipykernel)",
   "language": "python",
   "name": "python3"
  },
  "language_info": {
   "codemirror_mode": {
    "name": "ipython",
    "version": 3
   },
   "file_extension": ".py",
   "mimetype": "text/x-python",
   "name": "python",
   "nbconvert_exporter": "python",
   "pygments_lexer": "ipython3",
   "version": "3.9.13"
  },
  "vscode": {
   "interpreter": {
    "hash": "ad2bdc8ecc057115af97d19610ffacc2b4e99fae6737bb82f5d7fb13d2f2c186"
   }
  }
 },
 "nbformat": 4,
 "nbformat_minor": 5
}
